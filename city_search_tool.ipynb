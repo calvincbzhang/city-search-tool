{
  "nbformat": 4,
  "nbformat_minor": 0,
  "metadata": {
    "colab": {
      "name": "Untitled8.ipynb",
      "provenance": [],
      "toc_visible": true,
      "include_colab_link": true
    },
    "kernelspec": {
      "name": "python3",
      "display_name": "Python 3"
    }
  },
  "cells": [
    {
      "cell_type": "markdown",
      "metadata": {
        "id": "view-in-github",
        "colab_type": "text"
      },
      "source": [
        "<a href=\"https://colab.research.google.com/github/zhangchenbocalvin/city-search-tool/blob/main/city_search_tool.ipynb\" target=\"_parent\"><img src=\"https://colab.research.google.com/assets/colab-badge.svg\" alt=\"Open In Colab\"/></a>"
      ]
    },
    {
      "cell_type": "code",
      "metadata": {
        "id": "OdadZm7lfUOj"
      },
      "source": [
        "# imports\n",
        "import pandas as pd\n",
        "import numpy as np\n",
        "import itertools\n",
        "import random\n",
        "import io\n",
        "import requests\n",
        "\n",
        "from sklearn.manifold import TSNE\n",
        "%matplotlib inline\n",
        "import matplotlib.pyplot as plt\n",
        "from mpl_toolkits.mplot3d import Axes3D\n",
        "import seaborn as sns\n",
        "from sklearn.metrics.pairwise import manhattan_distances, euclidean_distances\n"
      ],
      "execution_count": 1,
      "outputs": []
    },
    {
      "cell_type": "markdown",
      "metadata": {
        "id": "99POTh0-AqYU"
      },
      "source": [
        "### Loadind data"
      ]
    },
    {
      "cell_type": "code",
      "metadata": {
        "id": "UytxSDVJd6yJ",
        "outputId": "44bb4ef8-cd1e-4c02-dfe3-09f60c2941ff",
        "colab": {
          "base_uri": "https://localhost:8080/",
          "height": 677
        }
      },
      "source": [
        "cities_ds=pd.read_csv('https://raw.githubusercontent.com/zhangchenbocalvin/city-search-tool/main/data/cities_ds.csv')\n",
        "people_ds = pd.read_csv('https://raw.githubusercontent.com/zhangchenbocalvin/city-search-tool/main/data/people_ds_100.csv')\n",
        "people= people_ds['Weights'].str.replace('(', '', regex=True).str.replace(')', '', regex=True).str.replace(',', '', regex=True).str.split(expand=True)\n",
        "\n",
        "\n",
        "people.head(20)"
      ],
      "execution_count": 2,
      "outputs": [
        {
          "output_type": "execute_result",
          "data": {
            "text/html": [
              "<div>\n",
              "<style scoped>\n",
              "    .dataframe tbody tr th:only-of-type {\n",
              "        vertical-align: middle;\n",
              "    }\n",
              "\n",
              "    .dataframe tbody tr th {\n",
              "        vertical-align: top;\n",
              "    }\n",
              "\n",
              "    .dataframe thead th {\n",
              "        text-align: right;\n",
              "    }\n",
              "</style>\n",
              "<table border=\"1\" class=\"dataframe\">\n",
              "  <thead>\n",
              "    <tr style=\"text-align: right;\">\n",
              "      <th></th>\n",
              "      <th>0</th>\n",
              "      <th>1</th>\n",
              "      <th>2</th>\n",
              "      <th>3</th>\n",
              "      <th>4</th>\n",
              "      <th>5</th>\n",
              "    </tr>\n",
              "  </thead>\n",
              "  <tbody>\n",
              "    <tr>\n",
              "      <th>0</th>\n",
              "      <td>0</td>\n",
              "      <td>0</td>\n",
              "      <td>0</td>\n",
              "      <td>0</td>\n",
              "      <td>0</td>\n",
              "      <td>0</td>\n",
              "    </tr>\n",
              "    <tr>\n",
              "      <th>1</th>\n",
              "      <td>0</td>\n",
              "      <td>0</td>\n",
              "      <td>0</td>\n",
              "      <td>0</td>\n",
              "      <td>0</td>\n",
              "      <td>1</td>\n",
              "    </tr>\n",
              "    <tr>\n",
              "      <th>2</th>\n",
              "      <td>0</td>\n",
              "      <td>0</td>\n",
              "      <td>0</td>\n",
              "      <td>0</td>\n",
              "      <td>0</td>\n",
              "      <td>2</td>\n",
              "    </tr>\n",
              "    <tr>\n",
              "      <th>3</th>\n",
              "      <td>0</td>\n",
              "      <td>0</td>\n",
              "      <td>0</td>\n",
              "      <td>0</td>\n",
              "      <td>0</td>\n",
              "      <td>3</td>\n",
              "    </tr>\n",
              "    <tr>\n",
              "      <th>4</th>\n",
              "      <td>0</td>\n",
              "      <td>0</td>\n",
              "      <td>0</td>\n",
              "      <td>0</td>\n",
              "      <td>1</td>\n",
              "      <td>0</td>\n",
              "    </tr>\n",
              "    <tr>\n",
              "      <th>5</th>\n",
              "      <td>0</td>\n",
              "      <td>0</td>\n",
              "      <td>0</td>\n",
              "      <td>0</td>\n",
              "      <td>1</td>\n",
              "      <td>1</td>\n",
              "    </tr>\n",
              "    <tr>\n",
              "      <th>6</th>\n",
              "      <td>0</td>\n",
              "      <td>0</td>\n",
              "      <td>0</td>\n",
              "      <td>0</td>\n",
              "      <td>1</td>\n",
              "      <td>2</td>\n",
              "    </tr>\n",
              "    <tr>\n",
              "      <th>7</th>\n",
              "      <td>0</td>\n",
              "      <td>0</td>\n",
              "      <td>0</td>\n",
              "      <td>0</td>\n",
              "      <td>1</td>\n",
              "      <td>3</td>\n",
              "    </tr>\n",
              "    <tr>\n",
              "      <th>8</th>\n",
              "      <td>0</td>\n",
              "      <td>0</td>\n",
              "      <td>0</td>\n",
              "      <td>0</td>\n",
              "      <td>2</td>\n",
              "      <td>0</td>\n",
              "    </tr>\n",
              "    <tr>\n",
              "      <th>9</th>\n",
              "      <td>0</td>\n",
              "      <td>0</td>\n",
              "      <td>0</td>\n",
              "      <td>0</td>\n",
              "      <td>2</td>\n",
              "      <td>1</td>\n",
              "    </tr>\n",
              "    <tr>\n",
              "      <th>10</th>\n",
              "      <td>0</td>\n",
              "      <td>0</td>\n",
              "      <td>0</td>\n",
              "      <td>0</td>\n",
              "      <td>2</td>\n",
              "      <td>2</td>\n",
              "    </tr>\n",
              "    <tr>\n",
              "      <th>11</th>\n",
              "      <td>0</td>\n",
              "      <td>0</td>\n",
              "      <td>0</td>\n",
              "      <td>0</td>\n",
              "      <td>2</td>\n",
              "      <td>3</td>\n",
              "    </tr>\n",
              "    <tr>\n",
              "      <th>12</th>\n",
              "      <td>0</td>\n",
              "      <td>0</td>\n",
              "      <td>0</td>\n",
              "      <td>0</td>\n",
              "      <td>3</td>\n",
              "      <td>0</td>\n",
              "    </tr>\n",
              "    <tr>\n",
              "      <th>13</th>\n",
              "      <td>0</td>\n",
              "      <td>0</td>\n",
              "      <td>0</td>\n",
              "      <td>0</td>\n",
              "      <td>3</td>\n",
              "      <td>1</td>\n",
              "    </tr>\n",
              "    <tr>\n",
              "      <th>14</th>\n",
              "      <td>0</td>\n",
              "      <td>0</td>\n",
              "      <td>0</td>\n",
              "      <td>0</td>\n",
              "      <td>3</td>\n",
              "      <td>2</td>\n",
              "    </tr>\n",
              "    <tr>\n",
              "      <th>15</th>\n",
              "      <td>0</td>\n",
              "      <td>0</td>\n",
              "      <td>0</td>\n",
              "      <td>0</td>\n",
              "      <td>3</td>\n",
              "      <td>3</td>\n",
              "    </tr>\n",
              "    <tr>\n",
              "      <th>16</th>\n",
              "      <td>0</td>\n",
              "      <td>0</td>\n",
              "      <td>0</td>\n",
              "      <td>1</td>\n",
              "      <td>0</td>\n",
              "      <td>0</td>\n",
              "    </tr>\n",
              "    <tr>\n",
              "      <th>17</th>\n",
              "      <td>0</td>\n",
              "      <td>0</td>\n",
              "      <td>0</td>\n",
              "      <td>1</td>\n",
              "      <td>0</td>\n",
              "      <td>1</td>\n",
              "    </tr>\n",
              "    <tr>\n",
              "      <th>18</th>\n",
              "      <td>0</td>\n",
              "      <td>0</td>\n",
              "      <td>0</td>\n",
              "      <td>1</td>\n",
              "      <td>0</td>\n",
              "      <td>2</td>\n",
              "    </tr>\n",
              "    <tr>\n",
              "      <th>19</th>\n",
              "      <td>0</td>\n",
              "      <td>0</td>\n",
              "      <td>0</td>\n",
              "      <td>1</td>\n",
              "      <td>0</td>\n",
              "      <td>3</td>\n",
              "    </tr>\n",
              "  </tbody>\n",
              "</table>\n",
              "</div>"
            ],
            "text/plain": [
              "    0  1  2  3  4  5\n",
              "0   0  0  0  0  0  0\n",
              "1   0  0  0  0  0  1\n",
              "2   0  0  0  0  0  2\n",
              "3   0  0  0  0  0  3\n",
              "4   0  0  0  0  1  0\n",
              "5   0  0  0  0  1  1\n",
              "6   0  0  0  0  1  2\n",
              "7   0  0  0  0  1  3\n",
              "8   0  0  0  0  2  0\n",
              "9   0  0  0  0  2  1\n",
              "10  0  0  0  0  2  2\n",
              "11  0  0  0  0  2  3\n",
              "12  0  0  0  0  3  0\n",
              "13  0  0  0  0  3  1\n",
              "14  0  0  0  0  3  2\n",
              "15  0  0  0  0  3  3\n",
              "16  0  0  0  1  0  0\n",
              "17  0  0  0  1  0  1\n",
              "18  0  0  0  1  0  2\n",
              "19  0  0  0  1  0  3"
            ]
          },
          "metadata": {
            "tags": []
          },
          "execution_count": 2
        }
      ]
    },
    {
      "cell_type": "markdown",
      "metadata": {
        "id": "sSIe16YPA2Vu"
      },
      "source": [
        "### Add your preferecies about Purchase Power, Health Care, Pollution, QoL_H, Crime Rating and Unesco\n",
        "\n"
      ]
    },
    {
      "cell_type": "code",
      "metadata": {
        "id": "DeYHwW90fbtF",
        "outputId": "e7091e33-751d-43db-bf79-a211747ca4f7",
        "colab": {
          "base_uri": "https://localhost:8080/",
          "height": 81
        }
      },
      "source": [
        "\n",
        "df = pd.DataFrame([1, 1, 0, 1, 1, 1]).T\n",
        "\n",
        "df\n"
      ],
      "execution_count": 3,
      "outputs": [
        {
          "output_type": "execute_result",
          "data": {
            "text/html": [
              "<div>\n",
              "<style scoped>\n",
              "    .dataframe tbody tr th:only-of-type {\n",
              "        vertical-align: middle;\n",
              "    }\n",
              "\n",
              "    .dataframe tbody tr th {\n",
              "        vertical-align: top;\n",
              "    }\n",
              "\n",
              "    .dataframe thead th {\n",
              "        text-align: right;\n",
              "    }\n",
              "</style>\n",
              "<table border=\"1\" class=\"dataframe\">\n",
              "  <thead>\n",
              "    <tr style=\"text-align: right;\">\n",
              "      <th></th>\n",
              "      <th>0</th>\n",
              "      <th>1</th>\n",
              "      <th>2</th>\n",
              "      <th>3</th>\n",
              "      <th>4</th>\n",
              "      <th>5</th>\n",
              "    </tr>\n",
              "  </thead>\n",
              "  <tbody>\n",
              "    <tr>\n",
              "      <th>0</th>\n",
              "      <td>1</td>\n",
              "      <td>1</td>\n",
              "      <td>0</td>\n",
              "      <td>1</td>\n",
              "      <td>1</td>\n",
              "      <td>1</td>\n",
              "    </tr>\n",
              "  </tbody>\n",
              "</table>\n",
              "</div>"
            ],
            "text/plain": [
              "   0  1  2  3  4  5\n",
              "0  1  1  0  1  1  1"
            ]
          },
          "metadata": {
            "tags": []
          },
          "execution_count": 3
        }
      ]
    },
    {
      "cell_type": "markdown",
      "metadata": {
        "id": "mdXWybHpISnJ"
      },
      "source": [
        "### Compute the most similar people to you\n",
        "\n"
      ]
    },
    {
      "cell_type": "code",
      "metadata": {
        "id": "P8KMz_CVfi_1"
      },
      "source": [
        "people_ds['md'] = pd.DataFrame(manhattan_distances(df, people)).T"
      ],
      "execution_count": 4,
      "outputs": []
    },
    {
      "cell_type": "code",
      "metadata": {
        "id": "MW1pF7l5q9dG"
      },
      "source": [
        "topk_people=pd.DataFrame(people_ds.sort_values('md').head(20)['City'].unique(),columns={'City'})"
      ],
      "execution_count": 5,
      "outputs": []
    },
    {
      "cell_type": "code",
      "metadata": {
        "id": "ob9UK_CRs6Au",
        "outputId": "0c505512-f5a8-4045-9e99-ec0e5183c0f1",
        "colab": {
          "base_uri": "https://localhost:8080/",
          "height": 238
        }
      },
      "source": [
        "topk_people"
      ],
      "execution_count": 6,
      "outputs": [
        {
          "output_type": "execute_result",
          "data": {
            "text/html": [
              "<div>\n",
              "<style scoped>\n",
              "    .dataframe tbody tr th:only-of-type {\n",
              "        vertical-align: middle;\n",
              "    }\n",
              "\n",
              "    .dataframe tbody tr th {\n",
              "        vertical-align: top;\n",
              "    }\n",
              "\n",
              "    .dataframe thead th {\n",
              "        text-align: right;\n",
              "    }\n",
              "</style>\n",
              "<table border=\"1\" class=\"dataframe\">\n",
              "  <thead>\n",
              "    <tr style=\"text-align: right;\">\n",
              "      <th></th>\n",
              "      <th>City</th>\n",
              "    </tr>\n",
              "  </thead>\n",
              "  <tbody>\n",
              "    <tr>\n",
              "      <th>0</th>\n",
              "      <td>Dresden</td>\n",
              "    </tr>\n",
              "    <tr>\n",
              "      <th>1</th>\n",
              "      <td>Lausanne</td>\n",
              "    </tr>\n",
              "    <tr>\n",
              "      <th>2</th>\n",
              "      <td>Munich</td>\n",
              "    </tr>\n",
              "    <tr>\n",
              "      <th>3</th>\n",
              "      <td>Aachen</td>\n",
              "    </tr>\n",
              "    <tr>\n",
              "      <th>4</th>\n",
              "      <td>Basel</td>\n",
              "    </tr>\n",
              "    <tr>\n",
              "      <th>5</th>\n",
              "      <td>Ottawa</td>\n",
              "    </tr>\n",
              "  </tbody>\n",
              "</table>\n",
              "</div>"
            ],
            "text/plain": [
              "       City\n",
              "0   Dresden\n",
              "1  Lausanne\n",
              "2    Munich\n",
              "3    Aachen\n",
              "4     Basel\n",
              "5    Ottawa"
            ]
          },
          "metadata": {
            "tags": []
          },
          "execution_count": 6
        }
      ]
    },
    {
      "cell_type": "markdown",
      "metadata": {
        "id": "2bLcfx_AIo1J"
      },
      "source": [
        "### Compute the top K cities"
      ]
    },
    {
      "cell_type": "code",
      "metadata": {
        "id": "R_fNFEkfvzOO",
        "outputId": "4c05377a-1703-4f1b-bdef-641fac5b3ad0",
        "colab": {
          "base_uri": "https://localhost:8080/",
          "height": 238
        }
      },
      "source": [
        "topk_people_city = pd.merge(topk_people['City'],\n",
        "                 cities_ds[['City','Purchase Power', 'Health Care', 'Pollution', 'QoL_H', 'Crime Rating', 'Unesco']],\n",
        "                 on='City')\n",
        "topk_people_city"
      ],
      "execution_count": 7,
      "outputs": [
        {
          "output_type": "execute_result",
          "data": {
            "text/html": [
              "<div>\n",
              "<style scoped>\n",
              "    .dataframe tbody tr th:only-of-type {\n",
              "        vertical-align: middle;\n",
              "    }\n",
              "\n",
              "    .dataframe tbody tr th {\n",
              "        vertical-align: top;\n",
              "    }\n",
              "\n",
              "    .dataframe thead th {\n",
              "        text-align: right;\n",
              "    }\n",
              "</style>\n",
              "<table border=\"1\" class=\"dataframe\">\n",
              "  <thead>\n",
              "    <tr style=\"text-align: right;\">\n",
              "      <th></th>\n",
              "      <th>City</th>\n",
              "      <th>Purchase Power</th>\n",
              "      <th>Health Care</th>\n",
              "      <th>Pollution</th>\n",
              "      <th>QoL_H</th>\n",
              "      <th>Crime Rating</th>\n",
              "      <th>Unesco</th>\n",
              "    </tr>\n",
              "  </thead>\n",
              "  <tbody>\n",
              "    <tr>\n",
              "      <th>0</th>\n",
              "      <td>Dresden</td>\n",
              "      <td>89.177489</td>\n",
              "      <td>76.480767</td>\n",
              "      <td>18.275265</td>\n",
              "      <td>89.225212</td>\n",
              "      <td>5.986104</td>\n",
              "      <td>18.181818</td>\n",
              "    </tr>\n",
              "    <tr>\n",
              "      <th>1</th>\n",
              "      <td>Lausanne</td>\n",
              "      <td>98.736399</td>\n",
              "      <td>59.922800</td>\n",
              "      <td>94.806319</td>\n",
              "      <td>85.321065</td>\n",
              "      <td>32.990379</td>\n",
              "      <td>54.545455</td>\n",
              "    </tr>\n",
              "    <tr>\n",
              "      <th>2</th>\n",
              "      <td>Munich</td>\n",
              "      <td>66.573067</td>\n",
              "      <td>89.977373</td>\n",
              "      <td>46.613287</td>\n",
              "      <td>89.151146</td>\n",
              "      <td>5.986104</td>\n",
              "      <td>18.181818</td>\n",
              "    </tr>\n",
              "    <tr>\n",
              "      <th>3</th>\n",
              "      <td>Aachen</td>\n",
              "      <td>63.378963</td>\n",
              "      <td>69.772395</td>\n",
              "      <td>12.648777</td>\n",
              "      <td>89.401830</td>\n",
              "      <td>5.986104</td>\n",
              "      <td>27.272727</td>\n",
              "    </tr>\n",
              "    <tr>\n",
              "      <th>4</th>\n",
              "      <td>Basel</td>\n",
              "      <td>83.994384</td>\n",
              "      <td>78.410755</td>\n",
              "      <td>64.033759</td>\n",
              "      <td>93.901284</td>\n",
              "      <td>23.062533</td>\n",
              "      <td>27.272727</td>\n",
              "    </tr>\n",
              "    <tr>\n",
              "      <th>5</th>\n",
              "      <td>Ottawa</td>\n",
              "      <td>100.000000</td>\n",
              "      <td>60.149075</td>\n",
              "      <td>36.301666</td>\n",
              "      <td>90.311393</td>\n",
              "      <td>15.219134</td>\n",
              "      <td>9.090909</td>\n",
              "    </tr>\n",
              "  </tbody>\n",
              "</table>\n",
              "</div>"
            ],
            "text/plain": [
              "       City  Purchase Power  Health Care  ...      QoL_H  Crime Rating     Unesco\n",
              "0   Dresden       89.177489    76.480767  ...  89.225212      5.986104  18.181818\n",
              "1  Lausanne       98.736399    59.922800  ...  85.321065     32.990379  54.545455\n",
              "2    Munich       66.573067    89.977373  ...  89.151146      5.986104  18.181818\n",
              "3    Aachen       63.378963    69.772395  ...  89.401830      5.986104  27.272727\n",
              "4     Basel       83.994384    78.410755  ...  93.901284     23.062533  27.272727\n",
              "5    Ottawa      100.000000    60.149075  ...  90.311393     15.219134   9.090909\n",
              "\n",
              "[6 rows x 7 columns]"
            ]
          },
          "metadata": {
            "tags": []
          },
          "execution_count": 7
        }
      ]
    },
    {
      "cell_type": "code",
      "metadata": {
        "id": "M1bxrkC2z6oY",
        "outputId": "7bc504dd-b194-4733-cc71-eedd9aaf5d44",
        "colab": {
          "base_uri": "https://localhost:8080/",
          "height": 363
        }
      },
      "source": [
        "topk_city = pd.DataFrame(euclidean_distances(topk_people_city[['Purchase Power', 'Health Care', 'Pollution', 'QoL_H', 'Crime Rating', 'Unesco']], cities_ds[['Purchase Power', 'Health Care', 'Pollution', 'QoL_H', 'Crime Rating', 'Unesco']])).T\n",
        "topk_city['mean']=topk_city.mean(axis=1)\n",
        "city_Score=pd.concat([cities_ds['City'], topk_city['mean']], axis=1)\n",
        "city_Score.sort_values('mean').head(10)"
      ],
      "execution_count": 8,
      "outputs": [
        {
          "output_type": "execute_result",
          "data": {
            "text/html": [
              "<div>\n",
              "<style scoped>\n",
              "    .dataframe tbody tr th:only-of-type {\n",
              "        vertical-align: middle;\n",
              "    }\n",
              "\n",
              "    .dataframe tbody tr th {\n",
              "        vertical-align: top;\n",
              "    }\n",
              "\n",
              "    .dataframe thead th {\n",
              "        text-align: right;\n",
              "    }\n",
              "</style>\n",
              "<table border=\"1\" class=\"dataframe\">\n",
              "  <thead>\n",
              "    <tr style=\"text-align: right;\">\n",
              "      <th></th>\n",
              "      <th>City</th>\n",
              "      <th>mean</th>\n",
              "    </tr>\n",
              "  </thead>\n",
              "  <tbody>\n",
              "    <tr>\n",
              "      <th>91</th>\n",
              "      <td>Basel</td>\n",
              "      <td>38.982813</td>\n",
              "    </tr>\n",
              "    <tr>\n",
              "      <th>182</th>\n",
              "      <td>Dresden</td>\n",
              "      <td>39.713519</td>\n",
              "    </tr>\n",
              "    <tr>\n",
              "      <th>183</th>\n",
              "      <td>Munich</td>\n",
              "      <td>40.067243</td>\n",
              "    </tr>\n",
              "    <tr>\n",
              "      <th>118</th>\n",
              "      <td>Ottawa</td>\n",
              "      <td>40.809260</td>\n",
              "    </tr>\n",
              "    <tr>\n",
              "      <th>180</th>\n",
              "      <td>Stuttgart</td>\n",
              "      <td>43.034372</td>\n",
              "    </tr>\n",
              "    <tr>\n",
              "      <th>191</th>\n",
              "      <td>Dubai</td>\n",
              "      <td>45.206741</td>\n",
              "    </tr>\n",
              "    <tr>\n",
              "      <th>193</th>\n",
              "      <td>Luxembourg</td>\n",
              "      <td>45.540771</td>\n",
              "    </tr>\n",
              "    <tr>\n",
              "      <th>181</th>\n",
              "      <td>Aachen</td>\n",
              "      <td>45.858993</td>\n",
              "    </tr>\n",
              "    <tr>\n",
              "      <th>79</th>\n",
              "      <td>Leicester</td>\n",
              "      <td>46.938455</td>\n",
              "    </tr>\n",
              "    <tr>\n",
              "      <th>179</th>\n",
              "      <td>Berlin</td>\n",
              "      <td>46.975854</td>\n",
              "    </tr>\n",
              "  </tbody>\n",
              "</table>\n",
              "</div>"
            ],
            "text/plain": [
              "           City       mean\n",
              "91        Basel  38.982813\n",
              "182     Dresden  39.713519\n",
              "183      Munich  40.067243\n",
              "118      Ottawa  40.809260\n",
              "180   Stuttgart  43.034372\n",
              "191       Dubai  45.206741\n",
              "193  Luxembourg  45.540771\n",
              "181      Aachen  45.858993\n",
              "79    Leicester  46.938455\n",
              "179      Berlin  46.975854"
            ]
          },
          "metadata": {
            "tags": []
          },
          "execution_count": 8
        }
      ]
    },
    {
      "cell_type": "code",
      "metadata": {
        "id": "T_VBaTau8-eC",
        "outputId": "66e0efa9-18b1-411d-d44f-8f699f3af540",
        "colab": {
          "base_uri": "https://localhost:8080/",
          "height": 208
        }
      },
      "source": [
        "print(city_Score.sort_values('mean')[\"City\"][:10])"
      ],
      "execution_count": 9,
      "outputs": [
        {
          "output_type": "stream",
          "text": [
            "91          Basel\n",
            "182       Dresden\n",
            "183        Munich\n",
            "118        Ottawa\n",
            "180     Stuttgart\n",
            "191         Dubai\n",
            "193    Luxembourg\n",
            "181        Aachen\n",
            "79      Leicester\n",
            "179        Berlin\n",
            "Name: City, dtype: object\n"
          ],
          "name": "stdout"
        }
      ]
    },
    {
      "cell_type": "markdown",
      "metadata": {
        "id": "KdOrvzfeI0E1"
      },
      "source": [
        "### Visualization through dimensionality reduction"
      ]
    },
    {
      "cell_type": "code",
      "metadata": {
        "id": "UyoTCcBf90YK",
        "outputId": "530b7b52-25cf-4fdc-bab2-52aea7669655",
        "colab": {
          "base_uri": "https://localhost:8080/",
          "height": 139
        }
      },
      "source": [
        "df = cities_ds\n",
        "\n",
        "rndperm = np.random.permutation(df.shape[0])\n",
        "df_subset = df.loc[rndperm,:].copy()\n",
        "data_subset = df_subset[['Purchase Power', 'Health Care', 'Pollution', 'Crime Rating', 'Unesco', 'QoL_H']].values\n",
        "\n",
        "\n",
        "tsne = TSNE(n_components=2, verbose=1, perplexity=15, n_iter=800)\n",
        "tsne_results = tsne.fit_transform(data_subset)"
      ],
      "execution_count": 10,
      "outputs": [
        {
          "output_type": "stream",
          "text": [
            "[t-SNE] Computing 46 nearest neighbors...\n",
            "[t-SNE] Indexed 197 samples in 0.001s...\n",
            "[t-SNE] Computed neighbors for 197 samples in 0.005s...\n",
            "[t-SNE] Computed conditional probabilities for sample 197 / 197\n",
            "[t-SNE] Mean sigma: 7.521102\n",
            "[t-SNE] KL divergence after 250 iterations with early exaggeration: 68.509811\n",
            "[t-SNE] KL divergence after 800 iterations: 0.583430\n"
          ],
          "name": "stdout"
        }
      ]
    },
    {
      "cell_type": "code",
      "metadata": {
        "id": "6S4q8eIE9_FZ",
        "outputId": "0708e344-1f99-4dd8-c23f-26495c4f75c7",
        "colab": {
          "base_uri": "https://localhost:8080/",
          "height": 644
        }
      },
      "source": [
        "new_dataframe = df_subset\n",
        "new_dataframe['tsne-2d-one'] = tsne_results[:,0]\n",
        "new_dataframe['tsne-2d-two'] = tsne_results[:,1]\n",
        "new_dataframe[\"Score\"] = np.zeros(len(new_dataframe))\n",
        "topk_cities = city_Score.sort_values('mean')[\"City\"][:10].values\n",
        "new_dataframe[\"City\"] = df_subset[\"City\"]\n",
        "for i in range(len(new_dataframe[\"City\"])):\n",
        "    if new_dataframe[\"City\"][i] == topk_cities[0]:\n",
        "        new_dataframe[\"Score\"][i] = \"Top\"\n",
        "    elif new_dataframe[\"City\"][i] in topk_cities:\n",
        "        new_dataframe[\"Score\"][i] = \"Recommended\"\n",
        "    else:\n",
        "        new_dataframe[\"Score\"][i] = \"Others\"\n",
        "        \n",
        "\n",
        "'''\n",
        "plt.figure(figsize=(16,10))\n",
        "plt.plot(tsne_results[:,0], tsne_results[:, 1], marker = 'o', linestyle='none')\n",
        "\n",
        "'''\n",
        "# Create an array with the colors you want to use\n",
        "colors = [\"#EA2C03\", \"#EADB03\", \"#0396EA\"]\n",
        "# Set your custom color palette\n",
        "customPalette = sns.set_palette(sns.color_palette(colors))\n",
        "sns.scatterplot(\n",
        "    x=\"tsne-2d-one\", y=\"tsne-2d-two\",\n",
        "    hue = \"Score\",\n",
        "    palette=colors,\n",
        "    data=new_dataframe,\n",
        "    legend=\"full\",\n",
        "    alpha=0.3)"
      ],
      "execution_count": 11,
      "outputs": [
        {
          "output_type": "stream",
          "text": [
            "/usr/local/lib/python3.6/dist-packages/ipykernel_launcher.py:13: SettingWithCopyWarning: \n",
            "A value is trying to be set on a copy of a slice from a DataFrame\n",
            "\n",
            "See the caveats in the documentation: https://pandas.pydata.org/pandas-docs/stable/user_guide/indexing.html#returning-a-view-versus-a-copy\n",
            "  del sys.path[0]\n",
            "/usr/local/lib/python3.6/dist-packages/pandas/core/indexing.py:670: SettingWithCopyWarning: \n",
            "A value is trying to be set on a copy of a slice from a DataFrame\n",
            "\n",
            "See the caveats in the documentation: https://pandas.pydata.org/pandas-docs/stable/user_guide/indexing.html#returning-a-view-versus-a-copy\n",
            "  iloc._setitem_with_indexer(indexer, value)\n",
            "/usr/local/lib/python3.6/dist-packages/ipykernel_launcher.py:11: SettingWithCopyWarning: \n",
            "A value is trying to be set on a copy of a slice from a DataFrame\n",
            "\n",
            "See the caveats in the documentation: https://pandas.pydata.org/pandas-docs/stable/user_guide/indexing.html#returning-a-view-versus-a-copy\n",
            "  # This is added back by InteractiveShellApp.init_path()\n",
            "/usr/local/lib/python3.6/dist-packages/ipykernel_launcher.py:9: SettingWithCopyWarning: \n",
            "A value is trying to be set on a copy of a slice from a DataFrame\n",
            "\n",
            "See the caveats in the documentation: https://pandas.pydata.org/pandas-docs/stable/user_guide/indexing.html#returning-a-view-versus-a-copy\n",
            "  if __name__ == '__main__':\n"
          ],
          "name": "stderr"
        },
        {
          "output_type": "execute_result",
          "data": {
            "text/plain": [
              "<matplotlib.axes._subplots.AxesSubplot at 0x7fad328736d8>"
            ]
          },
          "metadata": {
            "tags": []
          },
          "execution_count": 11
        },
        {
          "output_type": "display_data",
          "data": {
            "image/png": "[encoded data removed]",
            "text/plain": [
              "<Figure size 432x288 with 1 Axes>"
            ]
          },
          "metadata": {
            "tags": [],
            "needs_background": "light"
          }
        }
      ]
    }
  ]
}