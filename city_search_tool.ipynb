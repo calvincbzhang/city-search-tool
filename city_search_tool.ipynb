{
  "nbformat": 4,
  "nbformat_minor": 0,
  "metadata": {
    "colab": {
      "name": "Untitled8.ipynb",
      "provenance": [],
      "include_colab_link": true
    },
    "kernelspec": {
      "name": "python3",
      "display_name": "Python 3"
    }
  },
  "cells": [
    {
      "cell_type": "markdown",
      "metadata": {
        "id": "view-in-github",
        "colab_type": "text"
      },
      "source": [
        "<a href=\"https://colab.research.google.com/github/zhangchenbocalvin/city-search-tool/blob/main/city_search_tool.ipynb\" target=\"_parent\"><img src=\"https://colab.research.google.com/assets/colab-badge.svg\" alt=\"Open In Colab\"/></a>"
      ]
    },
    {
      "cell_type": "code",
      "metadata": {
        "id": "OdadZm7lfUOj"
      },
      "source": [
        "# imports\n",
        "import pandas as pd\n",
        "import numpy as np\n",
        "import itertools\n",
        "import random\n",
        "import io\n",
        "import requests\n",
        "\n",
        "from sklearn.manifold import TSNE\n",
        "%matplotlib inline\n",
        "import matplotlib.pyplot as plt\n",
        "from mpl_toolkits.mplot3d import Axes3D\n",
        "import seaborn as sns\n",
        "from sklearn.metrics.pairwise import manhattan_distances, euclidean_distances\n"
      ],
      "execution_count": 3,
      "outputs": []
    },
    {
      "cell_type": "markdown",
      "metadata": {
        "id": "99POTh0-AqYU"
      },
      "source": [
        "### Loadind data"
      ]
    },
    {
      "cell_type": "code",
      "metadata": {
        "id": "UytxSDVJd6yJ",
        "outputId": "3ce10268-34ea-4d69-f672-6652a6dccc97",
        "colab": {
          "base_uri": "https://localhost:8080/",
          "height": 677
        }
      },
      "source": [
        "cities_ds=pd.read_csv('https://raw.githubusercontent.com/zhangchenbocalvin/city-search-tool/main/data/cities_ds.csv')\n",
        "people_ds = pd.read_csv('https://raw.githubusercontent.com/zhangchenbocalvin/city-search-tool/main/data/people_ds_100.csv')\n",
        "people= people_ds['Weights'].str.replace('(', '', regex=True).str.replace(')', '', regex=True).str.replace(',', '', regex=True).str.split(expand=True)\n",
        "\n",
        "\n",
        "people.head(20)"
      ],
      "execution_count": 4,
      "outputs": [
        {
          "output_type": "execute_result",
          "data": {
            "text/html": [
              "<div>\n",
              "<style scoped>\n",
              "    .dataframe tbody tr th:only-of-type {\n",
              "        vertical-align: middle;\n",
              "    }\n",
              "\n",
              "    .dataframe tbody tr th {\n",
              "        vertical-align: top;\n",
              "    }\n",
              "\n",
              "    .dataframe thead th {\n",
              "        text-align: right;\n",
              "    }\n",
              "</style>\n",
              "<table border=\"1\" class=\"dataframe\">\n",
              "  <thead>\n",
              "    <tr style=\"text-align: right;\">\n",
              "      <th></th>\n",
              "      <th>0</th>\n",
              "      <th>1</th>\n",
              "      <th>2</th>\n",
              "      <th>3</th>\n",
              "      <th>4</th>\n",
              "      <th>5</th>\n",
              "    </tr>\n",
              "  </thead>\n",
              "  <tbody>\n",
              "    <tr>\n",
              "      <th>0</th>\n",
              "      <td>0</td>\n",
              "      <td>0</td>\n",
              "      <td>0</td>\n",
              "      <td>0</td>\n",
              "      <td>0</td>\n",
              "      <td>0</td>\n",
              "    </tr>\n",
              "    <tr>\n",
              "      <th>1</th>\n",
              "      <td>0</td>\n",
              "      <td>0</td>\n",
              "      <td>0</td>\n",
              "      <td>0</td>\n",
              "      <td>0</td>\n",
              "      <td>1</td>\n",
              "    </tr>\n",
              "    <tr>\n",
              "      <th>2</th>\n",
              "      <td>0</td>\n",
              "      <td>0</td>\n",
              "      <td>0</td>\n",
              "      <td>0</td>\n",
              "      <td>0</td>\n",
              "      <td>2</td>\n",
              "    </tr>\n",
              "    <tr>\n",
              "      <th>3</th>\n",
              "      <td>0</td>\n",
              "      <td>0</td>\n",
              "      <td>0</td>\n",
              "      <td>0</td>\n",
              "      <td>0</td>\n",
              "      <td>3</td>\n",
              "    </tr>\n",
              "    <tr>\n",
              "      <th>4</th>\n",
              "      <td>0</td>\n",
              "      <td>0</td>\n",
              "      <td>0</td>\n",
              "      <td>0</td>\n",
              "      <td>1</td>\n",
              "      <td>0</td>\n",
              "    </tr>\n",
              "    <tr>\n",
              "      <th>5</th>\n",
              "      <td>0</td>\n",
              "      <td>0</td>\n",
              "      <td>0</td>\n",
              "      <td>0</td>\n",
              "      <td>1</td>\n",
              "      <td>1</td>\n",
              "    </tr>\n",
              "    <tr>\n",
              "      <th>6</th>\n",
              "      <td>0</td>\n",
              "      <td>0</td>\n",
              "      <td>0</td>\n",
              "      <td>0</td>\n",
              "      <td>1</td>\n",
              "      <td>2</td>\n",
              "    </tr>\n",
              "    <tr>\n",
              "      <th>7</th>\n",
              "      <td>0</td>\n",
              "      <td>0</td>\n",
              "      <td>0</td>\n",
              "      <td>0</td>\n",
              "      <td>1</td>\n",
              "      <td>3</td>\n",
              "    </tr>\n",
              "    <tr>\n",
              "      <th>8</th>\n",
              "      <td>0</td>\n",
              "      <td>0</td>\n",
              "      <td>0</td>\n",
              "      <td>0</td>\n",
              "      <td>2</td>\n",
              "      <td>0</td>\n",
              "    </tr>\n",
              "    <tr>\n",
              "      <th>9</th>\n",
              "      <td>0</td>\n",
              "      <td>0</td>\n",
              "      <td>0</td>\n",
              "      <td>0</td>\n",
              "      <td>2</td>\n",
              "      <td>1</td>\n",
              "    </tr>\n",
              "    <tr>\n",
              "      <th>10</th>\n",
              "      <td>0</td>\n",
              "      <td>0</td>\n",
              "      <td>0</td>\n",
              "      <td>0</td>\n",
              "      <td>2</td>\n",
              "      <td>2</td>\n",
              "    </tr>\n",
              "    <tr>\n",
              "      <th>11</th>\n",
              "      <td>0</td>\n",
              "      <td>0</td>\n",
              "      <td>0</td>\n",
              "      <td>0</td>\n",
              "      <td>2</td>\n",
              "      <td>3</td>\n",
              "    </tr>\n",
              "    <tr>\n",
              "      <th>12</th>\n",
              "      <td>0</td>\n",
              "      <td>0</td>\n",
              "      <td>0</td>\n",
              "      <td>0</td>\n",
              "      <td>3</td>\n",
              "      <td>0</td>\n",
              "    </tr>\n",
              "    <tr>\n",
              "      <th>13</th>\n",
              "      <td>0</td>\n",
              "      <td>0</td>\n",
              "      <td>0</td>\n",
              "      <td>0</td>\n",
              "      <td>3</td>\n",
              "      <td>1</td>\n",
              "    </tr>\n",
              "    <tr>\n",
              "      <th>14</th>\n",
              "      <td>0</td>\n",
              "      <td>0</td>\n",
              "      <td>0</td>\n",
              "      <td>0</td>\n",
              "      <td>3</td>\n",
              "      <td>2</td>\n",
              "    </tr>\n",
              "    <tr>\n",
              "      <th>15</th>\n",
              "      <td>0</td>\n",
              "      <td>0</td>\n",
              "      <td>0</td>\n",
              "      <td>0</td>\n",
              "      <td>3</td>\n",
              "      <td>3</td>\n",
              "    </tr>\n",
              "    <tr>\n",
              "      <th>16</th>\n",
              "      <td>0</td>\n",
              "      <td>0</td>\n",
              "      <td>0</td>\n",
              "      <td>1</td>\n",
              "      <td>0</td>\n",
              "      <td>0</td>\n",
              "    </tr>\n",
              "    <tr>\n",
              "      <th>17</th>\n",
              "      <td>0</td>\n",
              "      <td>0</td>\n",
              "      <td>0</td>\n",
              "      <td>1</td>\n",
              "      <td>0</td>\n",
              "      <td>1</td>\n",
              "    </tr>\n",
              "    <tr>\n",
              "      <th>18</th>\n",
              "      <td>0</td>\n",
              "      <td>0</td>\n",
              "      <td>0</td>\n",
              "      <td>1</td>\n",
              "      <td>0</td>\n",
              "      <td>2</td>\n",
              "    </tr>\n",
              "    <tr>\n",
              "      <th>19</th>\n",
              "      <td>0</td>\n",
              "      <td>0</td>\n",
              "      <td>0</td>\n",
              "      <td>1</td>\n",
              "      <td>0</td>\n",
              "      <td>3</td>\n",
              "    </tr>\n",
              "  </tbody>\n",
              "</table>\n",
              "</div>"
            ],
            "text/plain": [
              "    0  1  2  3  4  5\n",
              "0   0  0  0  0  0  0\n",
              "1   0  0  0  0  0  1\n",
              "2   0  0  0  0  0  2\n",
              "3   0  0  0  0  0  3\n",
              "4   0  0  0  0  1  0\n",
              "5   0  0  0  0  1  1\n",
              "6   0  0  0  0  1  2\n",
              "7   0  0  0  0  1  3\n",
              "8   0  0  0  0  2  0\n",
              "9   0  0  0  0  2  1\n",
              "10  0  0  0  0  2  2\n",
              "11  0  0  0  0  2  3\n",
              "12  0  0  0  0  3  0\n",
              "13  0  0  0  0  3  1\n",
              "14  0  0  0  0  3  2\n",
              "15  0  0  0  0  3  3\n",
              "16  0  0  0  1  0  0\n",
              "17  0  0  0  1  0  1\n",
              "18  0  0  0  1  0  2\n",
              "19  0  0  0  1  0  3"
            ]
          },
          "metadata": {
            "tags": []
          },
          "execution_count": 4
        }
      ]
    },
    {
      "cell_type": "markdown",
      "metadata": {
        "id": "sSIe16YPA2Vu"
      },
      "source": [
        "### Add your preferecies about Purchase Power, Health Care, Pollution, QoL_H, Crime Rating and Unesco\n",
        "\n"
      ]
    },
    {
      "cell_type": "code",
      "metadata": {
        "id": "DeYHwW90fbtF",
        "outputId": "ab0d3127-f696-4ca2-e3fe-b56b900416c5",
        "colab": {
          "base_uri": "https://localhost:8080/",
          "height": 81
        }
      },
      "source": [
        "\n",
        "df = pd.DataFrame([1, 1, 0, 1, 1, 1]).T\n",
        "\n",
        "df\n"
      ],
      "execution_count": 5,
      "outputs": [
        {
          "output_type": "execute_result",
          "data": {
            "text/html": [
              "<div>\n",
              "<style scoped>\n",
              "    .dataframe tbody tr th:only-of-type {\n",
              "        vertical-align: middle;\n",
              "    }\n",
              "\n",
              "    .dataframe tbody tr th {\n",
              "        vertical-align: top;\n",
              "    }\n",
              "\n",
              "    .dataframe thead th {\n",
              "        text-align: right;\n",
              "    }\n",
              "</style>\n",
              "<table border=\"1\" class=\"dataframe\">\n",
              "  <thead>\n",
              "    <tr style=\"text-align: right;\">\n",
              "      <th></th>\n",
              "      <th>0</th>\n",
              "      <th>1</th>\n",
              "      <th>2</th>\n",
              "      <th>3</th>\n",
              "      <th>4</th>\n",
              "      <th>5</th>\n",
              "    </tr>\n",
              "  </thead>\n",
              "  <tbody>\n",
              "    <tr>\n",
              "      <th>0</th>\n",
              "      <td>1</td>\n",
              "      <td>1</td>\n",
              "      <td>0</td>\n",
              "      <td>1</td>\n",
              "      <td>1</td>\n",
              "      <td>1</td>\n",
              "    </tr>\n",
              "  </tbody>\n",
              "</table>\n",
              "</div>"
            ],
            "text/plain": [
              "   0  1  2  3  4  5\n",
              "0  1  1  0  1  1  1"
            ]
          },
          "metadata": {
            "tags": []
          },
          "execution_count": 5
        }
      ]
    },
    {
      "cell_type": "code",
      "metadata": {
        "id": "P8KMz_CVfi_1"
      },
      "source": [
        "people_ds['md'] = pd.DataFrame(manhattan_distances(df, people))"
      ],
      "execution_count": null,
      "outputs": []
    },
    {
      "cell_type": "code",
      "metadata": {
        "id": "MW1pF7l5q9dG"
      },
      "source": [
        "topk_people=pd.DataFrame(people_ds.sort_values('md').head(20)['City'].unique(),columns={'City'})"
      ],
      "execution_count": null,
      "outputs": []
    },
    {
      "cell_type": "code",
      "metadata": {
        "id": "ob9UK_CRs6Au"
      },
      "source": [
        "topk_people"
      ],
      "execution_count": null,
      "outputs": []
    },
    {
      "cell_type": "code",
      "metadata": {
        "id": "R_fNFEkfvzOO"
      },
      "source": [
        "topk_people_city = pd.merge(topk_people['City'],\n",
        "                 cities_ds[['City','Purchase Power', 'Health Care', 'Pollution', 'QoL_H', 'Crime Rating', 'Unesco']],\n",
        "                 on='City')\n",
        "topk_people_city"
      ],
      "execution_count": null,
      "outputs": []
    },
    {
      "cell_type": "code",
      "metadata": {
        "id": "M1bxrkC2z6oY"
      },
      "source": [
        "topk_city = pd.DataFrame(euclidean_distances(topk_people_city[['Purchase Power', 'Health Care', 'Pollution', 'QoL_H', 'Crime Rating', 'Unesco']], cities_ds[['Purchase Power', 'Health Care', 'Pollution', 'QoL_H', 'Crime Rating', 'Unesco']])).T\n",
        "topk_city['mean']=topk_city.mean(axis=1)\n",
        "city_Score=pd.concat([cities_ds['City'], topk_city['mean']], axis=1)\n",
        "city_Score.sort_values('mean').head(10)"
      ],
      "execution_count": null,
      "outputs": []
    },
    {
      "cell_type": "code",
      "metadata": {
        "id": "T_VBaTau8-eC"
      },
      "source": [
        "print(city_Score.sort_values('mean')[\"City\"][:10])"
      ],
      "execution_count": null,
      "outputs": []
    },
    {
      "cell_type": "code",
      "metadata": {
        "id": "UyoTCcBf90YK"
      },
      "source": [
        "df = cities_ds\n",
        "\n",
        "rndperm = np.random.permutation(df.shape[0])\n",
        "df_subset = df.loc[rndperm,:].copy()\n",
        "data_subset = df_subset[['Purchase Power', 'Health Care', 'Pollution', 'Crime Rating', 'Unesco', 'QoL_H']].values\n",
        "\n",
        "\n",
        "tsne = TSNE(n_components=2, verbose=1, perplexity=15, n_iter=800)\n",
        "tsne_results = tsne.fit_transform(data_subset)"
      ],
      "execution_count": null,
      "outputs": []
    },
    {
      "cell_type": "code",
      "metadata": {
        "id": "6S4q8eIE9_FZ"
      },
      "source": [
        "new_dataframe = df_subset\n",
        "new_dataframe['tsne-2d-one'] = tsne_results[:,0]\n",
        "new_dataframe['tsne-2d-two'] = tsne_results[:,1]\n",
        "new_dataframe[\"Score\"] = np.zeros(len(new_dataframe))\n",
        "topk_cities = city_Score.sort_values('mean')[\"City\"][:10].values\n",
        "new_dataframe[\"City\"] = df_subset[\"City\"]\n",
        "for i in range(len(new_dataframe[\"City\"])):\n",
        "    if new_dataframe[\"City\"][i] == topk_cities[0]:\n",
        "        new_dataframe[\"Score\"][i] = \"Top\"\n",
        "    elif new_dataframe[\"City\"][i] in topk_cities:\n",
        "        new_dataframe[\"Score\"][i] = \"Recommended\"\n",
        "    else:\n",
        "        new_dataframe[\"Score\"][i] = \"Others\"\n",
        "        \n",
        "\n",
        "'''\n",
        "plt.figure(figsize=(16,10))\n",
        "plt.plot(tsne_results[:,0], tsne_results[:, 1], marker = 'o', linestyle='none')\n",
        "\n",
        "'''\n",
        "# Create an array with the colors you want to use\n",
        "colors = [\"#EA2C03\", \"#EADB03\", \"#0396EA\"]\n",
        "# Set your custom color palette\n",
        "customPalette = sns.set_palette(sns.color_palette(colors))\n",
        "sns.scatterplot(\n",
        "    x=\"tsne-2d-one\", y=\"tsne-2d-two\",\n",
        "    hue = \"Score\",\n",
        "    palette=colors,\n",
        "    data=new_dataframe,\n",
        "    legend=\"full\",\n",
        "    alpha=0.3)"
      ],
      "execution_count": null,
      "outputs": []
    }
  ]
}