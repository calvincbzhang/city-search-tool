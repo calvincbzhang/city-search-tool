{
 "cells": [
  {
   "cell_type": "markdown",
   "metadata": {
    "colab_type": "text",
    "id": "view-in-github"
   },
   "source": [
    "<a href=\"https://colab.research.google.com/github/zhangchenbocalvin/city-search-tool/blob/main/city_search_tool.ipynb\" target=\"_parent\"><img src=\"https://colab.research.google.com/assets/colab-badge.svg\" alt=\"Open In Colab\"/></a>"
   ]
  },
  {
   "cell_type": "code",
   "execution_count": 23,
   "metadata": {
    "id": "OdadZm7lfUOj"
   },
   "outputs": [],
   "source": [
    "# imports\n",
    "import pandas as pd\n",
    "import numpy as np\n",
    "import seaborn as sns\n",
    "import matplotlib.pyplot as plt\n",
    "%matplotlib inline\n",
    "\n",
    "import itertools\n",
    "import random\n",
    "import io\n",
    "import requests\n",
    "import warnings\n",
    "warnings.filterwarnings('ignore')\n",
    "\n",
    "from sklearn.metrics.pairwise import manhattan_distances, euclidean_distances\n",
    "from sklearn.manifold import TSNE\n",
    "from mpl_toolkits.mplot3d import Axes3D"
   ]
  },
  {
   "cell_type": "markdown",
   "metadata": {
    "id": "99POTh0-AqYU"
   },
   "source": [
    "### Load data"
   ]
  },
  {
   "cell_type": "code",
   "execution_count": 10,
   "metadata": {
    "colab": {
     "base_uri": "https://localhost:8080/",
     "height": 677
    },
    "id": "UytxSDVJd6yJ",
    "outputId": "6c00ca8c-3a0a-42b2-dc8c-d92246bf3f8a"
   },
   "outputs": [
    {
     "data": {
      "text/html": [
       "<div>\n",
       "<style scoped>\n",
       "    .dataframe tbody tr th:only-of-type {\n",
       "        vertical-align: middle;\n",
       "    }\n",
       "\n",
       "    .dataframe tbody tr th {\n",
       "        vertical-align: top;\n",
       "    }\n",
       "\n",
       "    .dataframe thead th {\n",
       "        text-align: right;\n",
       "    }\n",
       "</style>\n",
       "<table border=\"1\" class=\"dataframe\">\n",
       "  <thead>\n",
       "    <tr style=\"text-align: right;\">\n",
       "      <th></th>\n",
       "      <th>0</th>\n",
       "      <th>1</th>\n",
       "      <th>2</th>\n",
       "      <th>3</th>\n",
       "      <th>4</th>\n",
       "      <th>5</th>\n",
       "    </tr>\n",
       "  </thead>\n",
       "  <tbody>\n",
       "    <tr>\n",
       "      <th>0</th>\n",
       "      <td>0</td>\n",
       "      <td>0</td>\n",
       "      <td>0</td>\n",
       "      <td>0</td>\n",
       "      <td>0</td>\n",
       "      <td>0</td>\n",
       "    </tr>\n",
       "    <tr>\n",
       "      <th>1</th>\n",
       "      <td>0</td>\n",
       "      <td>0</td>\n",
       "      <td>0</td>\n",
       "      <td>0</td>\n",
       "      <td>0</td>\n",
       "      <td>1</td>\n",
       "    </tr>\n",
       "    <tr>\n",
       "      <th>2</th>\n",
       "      <td>0</td>\n",
       "      <td>0</td>\n",
       "      <td>0</td>\n",
       "      <td>0</td>\n",
       "      <td>0</td>\n",
       "      <td>2</td>\n",
       "    </tr>\n",
       "    <tr>\n",
       "      <th>3</th>\n",
       "      <td>0</td>\n",
       "      <td>0</td>\n",
       "      <td>0</td>\n",
       "      <td>0</td>\n",
       "      <td>0</td>\n",
       "      <td>3</td>\n",
       "    </tr>\n",
       "    <tr>\n",
       "      <th>4</th>\n",
       "      <td>0</td>\n",
       "      <td>0</td>\n",
       "      <td>0</td>\n",
       "      <td>0</td>\n",
       "      <td>1</td>\n",
       "      <td>0</td>\n",
       "    </tr>\n",
       "  </tbody>\n",
       "</table>\n",
       "</div>"
      ],
      "text/plain": [
       "   0  1  2  3  4  5\n",
       "0  0  0  0  0  0  0\n",
       "1  0  0  0  0  0  1\n",
       "2  0  0  0  0  0  2\n",
       "3  0  0  0  0  0  3\n",
       "4  0  0  0  0  1  0"
      ]
     },
     "execution_count": 10,
     "metadata": {},
     "output_type": "execute_result"
    }
   ],
   "source": [
    "cities_ds = pd.read_csv('https://raw.githubusercontent.com/zhangchenbocalvin/city-search-tool/main/data/cities_ds.csv')\n",
    "people_ds = pd.read_csv('https://raw.githubusercontent.com/zhangchenbocalvin/city-search-tool/main/data/people_ds_100.csv')\n",
    "people = people_ds['Weights'].str.replace('(', '', regex=True).str.replace(')', '', regex=True).str.replace(',', '', regex=True).str.split(expand=True)\n",
    "\n",
    "people.head()"
   ]
  },
  {
   "cell_type": "markdown",
   "metadata": {
    "id": "sSIe16YPA2Vu"
   },
   "source": [
    "### Add your preferences about Purchase Power, Health Care, Pollution, QoL_H, Crime Rating and UNESCO"
   ]
  },
  {
   "cell_type": "code",
   "execution_count": 15,
   "metadata": {
    "colab": {
     "base_uri": "https://localhost:8080/",
     "height": 81
    },
    "id": "DeYHwW90fbtF",
    "outputId": "9a5da346-87bb-4238-fdb9-e51be1c7abd5"
   },
   "outputs": [
    {
     "data": {
      "text/html": [
       "<div>\n",
       "<style scoped>\n",
       "    .dataframe tbody tr th:only-of-type {\n",
       "        vertical-align: middle;\n",
       "    }\n",
       "\n",
       "    .dataframe tbody tr th {\n",
       "        vertical-align: top;\n",
       "    }\n",
       "\n",
       "    .dataframe thead th {\n",
       "        text-align: right;\n",
       "    }\n",
       "</style>\n",
       "<table border=\"1\" class=\"dataframe\">\n",
       "  <thead>\n",
       "    <tr style=\"text-align: right;\">\n",
       "      <th></th>\n",
       "      <th>0</th>\n",
       "      <th>1</th>\n",
       "      <th>2</th>\n",
       "      <th>3</th>\n",
       "      <th>4</th>\n",
       "      <th>5</th>\n",
       "    </tr>\n",
       "  </thead>\n",
       "  <tbody>\n",
       "    <tr>\n",
       "      <th>0</th>\n",
       "      <td>1</td>\n",
       "      <td>1</td>\n",
       "      <td>0</td>\n",
       "      <td>1</td>\n",
       "      <td>1</td>\n",
       "      <td>1</td>\n",
       "    </tr>\n",
       "  </tbody>\n",
       "</table>\n",
       "</div>"
      ],
      "text/plain": [
       "   0  1  2  3  4  5\n",
       "0  1  1  0  1  1  1"
      ]
     },
     "execution_count": 15,
     "metadata": {},
     "output_type": "execute_result"
    }
   ],
   "source": [
    "# 0 = none, 1 = low, 2 = mid, 3 = high\n",
    "df = pd.DataFrame([1, 1, 0, 1, 1, 1]).T\n",
    "df"
   ]
  },
  {
   "cell_type": "markdown",
   "metadata": {
    "id": "mdXWybHpISnJ"
   },
   "source": [
    "### Compute the most similar people to you"
   ]
  },
  {
   "cell_type": "code",
   "execution_count": 16,
   "metadata": {
    "id": "P8KMz_CVfi_1"
   },
   "outputs": [],
   "source": [
    "people_ds['md'] = pd.DataFrame(manhattan_distances(df, people)).T"
   ]
  },
  {
   "cell_type": "code",
   "execution_count": 17,
   "metadata": {
    "id": "MW1pF7l5q9dG"
   },
   "outputs": [],
   "source": [
    "topk_people = pd.DataFrame(people_ds.sort_values('md').head(20)['City'].unique(),columns={'City'})"
   ]
  },
  {
   "cell_type": "code",
   "execution_count": 18,
   "metadata": {
    "colab": {
     "base_uri": "https://localhost:8080/",
     "height": 238
    },
    "id": "ob9UK_CRs6Au",
    "outputId": "eecd8c9f-5e05-4135-cbf7-a6fdb54d8030"
   },
   "outputs": [
    {
     "data": {
      "text/html": [
       "<div>\n",
       "<style scoped>\n",
       "    .dataframe tbody tr th:only-of-type {\n",
       "        vertical-align: middle;\n",
       "    }\n",
       "\n",
       "    .dataframe tbody tr th {\n",
       "        vertical-align: top;\n",
       "    }\n",
       "\n",
       "    .dataframe thead th {\n",
       "        text-align: right;\n",
       "    }\n",
       "</style>\n",
       "<table border=\"1\" class=\"dataframe\">\n",
       "  <thead>\n",
       "    <tr style=\"text-align: right;\">\n",
       "      <th></th>\n",
       "      <th>City</th>\n",
       "    </tr>\n",
       "  </thead>\n",
       "  <tbody>\n",
       "    <tr>\n",
       "      <th>0</th>\n",
       "      <td>Dresden</td>\n",
       "    </tr>\n",
       "    <tr>\n",
       "      <th>1</th>\n",
       "      <td>Lausanne</td>\n",
       "    </tr>\n",
       "    <tr>\n",
       "      <th>2</th>\n",
       "      <td>Munich</td>\n",
       "    </tr>\n",
       "    <tr>\n",
       "      <th>3</th>\n",
       "      <td>Aachen</td>\n",
       "    </tr>\n",
       "    <tr>\n",
       "      <th>4</th>\n",
       "      <td>Basel</td>\n",
       "    </tr>\n",
       "    <tr>\n",
       "      <th>5</th>\n",
       "      <td>Ottawa</td>\n",
       "    </tr>\n",
       "  </tbody>\n",
       "</table>\n",
       "</div>"
      ],
      "text/plain": [
       "       City\n",
       "0   Dresden\n",
       "1  Lausanne\n",
       "2    Munich\n",
       "3    Aachen\n",
       "4     Basel\n",
       "5    Ottawa"
      ]
     },
     "execution_count": 18,
     "metadata": {},
     "output_type": "execute_result"
    }
   ],
   "source": [
    "topk_people"
   ]
  },
  {
   "cell_type": "markdown",
   "metadata": {
    "id": "2bLcfx_AIo1J"
   },
   "source": [
    "### Compute the top K cities"
   ]
  },
  {
   "cell_type": "code",
   "execution_count": 19,
   "metadata": {
    "colab": {
     "base_uri": "https://localhost:8080/",
     "height": 238
    },
    "id": "R_fNFEkfvzOO",
    "outputId": "7c8fc4c5-4153-429d-a906-fd651578bc19"
   },
   "outputs": [
    {
     "data": {
      "text/html": [
       "<div>\n",
       "<style scoped>\n",
       "    .dataframe tbody tr th:only-of-type {\n",
       "        vertical-align: middle;\n",
       "    }\n",
       "\n",
       "    .dataframe tbody tr th {\n",
       "        vertical-align: top;\n",
       "    }\n",
       "\n",
       "    .dataframe thead th {\n",
       "        text-align: right;\n",
       "    }\n",
       "</style>\n",
       "<table border=\"1\" class=\"dataframe\">\n",
       "  <thead>\n",
       "    <tr style=\"text-align: right;\">\n",
       "      <th></th>\n",
       "      <th>City</th>\n",
       "      <th>Purchase Power</th>\n",
       "      <th>Health Care</th>\n",
       "      <th>Pollution</th>\n",
       "      <th>QoL_H</th>\n",
       "      <th>Crime Rating</th>\n",
       "      <th>Unesco</th>\n",
       "    </tr>\n",
       "  </thead>\n",
       "  <tbody>\n",
       "    <tr>\n",
       "      <th>0</th>\n",
       "      <td>Dresden</td>\n",
       "      <td>89.177489</td>\n",
       "      <td>76.480767</td>\n",
       "      <td>18.275265</td>\n",
       "      <td>89.225212</td>\n",
       "      <td>5.986104</td>\n",
       "      <td>18.181818</td>\n",
       "    </tr>\n",
       "    <tr>\n",
       "      <th>1</th>\n",
       "      <td>Lausanne</td>\n",
       "      <td>98.736399</td>\n",
       "      <td>59.922800</td>\n",
       "      <td>94.806319</td>\n",
       "      <td>85.321065</td>\n",
       "      <td>32.990379</td>\n",
       "      <td>54.545455</td>\n",
       "    </tr>\n",
       "    <tr>\n",
       "      <th>2</th>\n",
       "      <td>Munich</td>\n",
       "      <td>66.573067</td>\n",
       "      <td>89.977373</td>\n",
       "      <td>46.613287</td>\n",
       "      <td>89.151146</td>\n",
       "      <td>5.986104</td>\n",
       "      <td>18.181818</td>\n",
       "    </tr>\n",
       "    <tr>\n",
       "      <th>3</th>\n",
       "      <td>Aachen</td>\n",
       "      <td>63.378963</td>\n",
       "      <td>69.772395</td>\n",
       "      <td>12.648777</td>\n",
       "      <td>89.401830</td>\n",
       "      <td>5.986104</td>\n",
       "      <td>27.272727</td>\n",
       "    </tr>\n",
       "    <tr>\n",
       "      <th>4</th>\n",
       "      <td>Basel</td>\n",
       "      <td>83.994384</td>\n",
       "      <td>78.410755</td>\n",
       "      <td>64.033759</td>\n",
       "      <td>93.901284</td>\n",
       "      <td>23.062533</td>\n",
       "      <td>27.272727</td>\n",
       "    </tr>\n",
       "    <tr>\n",
       "      <th>5</th>\n",
       "      <td>Ottawa</td>\n",
       "      <td>100.000000</td>\n",
       "      <td>60.149075</td>\n",
       "      <td>36.301666</td>\n",
       "      <td>90.311393</td>\n",
       "      <td>15.219134</td>\n",
       "      <td>9.090909</td>\n",
       "    </tr>\n",
       "  </tbody>\n",
       "</table>\n",
       "</div>"
      ],
      "text/plain": [
       "       City  Purchase Power  Health Care  Pollution      QoL_H  Crime Rating  \\\n",
       "0   Dresden       89.177489    76.480767  18.275265  89.225212      5.986104   \n",
       "1  Lausanne       98.736399    59.922800  94.806319  85.321065     32.990379   \n",
       "2    Munich       66.573067    89.977373  46.613287  89.151146      5.986104   \n",
       "3    Aachen       63.378963    69.772395  12.648777  89.401830      5.986104   \n",
       "4     Basel       83.994384    78.410755  64.033759  93.901284     23.062533   \n",
       "5    Ottawa      100.000000    60.149075  36.301666  90.311393     15.219134   \n",
       "\n",
       "      Unesco  \n",
       "0  18.181818  \n",
       "1  54.545455  \n",
       "2  18.181818  \n",
       "3  27.272727  \n",
       "4  27.272727  \n",
       "5   9.090909  "
      ]
     },
     "execution_count": 19,
     "metadata": {},
     "output_type": "execute_result"
    }
   ],
   "source": [
    "topk_people_city = pd.merge(topk_people['City'],\n",
    "                            cities_ds[['City','Purchase Power', 'Health Care', 'Pollution', 'QoL_H', 'Crime Rating', 'Unesco']],\n",
    "                            on='City')\n",
    "topk_people_city"
   ]
  },
  {
   "cell_type": "code",
   "execution_count": 20,
   "metadata": {
    "colab": {
     "base_uri": "https://localhost:8080/",
     "height": 363
    },
    "id": "M1bxrkC2z6oY",
    "outputId": "f74ad606-e3e2-408d-a474-5ed3534e2ecb"
   },
   "outputs": [
    {
     "data": {
      "text/html": [
       "<div>\n",
       "<style scoped>\n",
       "    .dataframe tbody tr th:only-of-type {\n",
       "        vertical-align: middle;\n",
       "    }\n",
       "\n",
       "    .dataframe tbody tr th {\n",
       "        vertical-align: top;\n",
       "    }\n",
       "\n",
       "    .dataframe thead th {\n",
       "        text-align: right;\n",
       "    }\n",
       "</style>\n",
       "<table border=\"1\" class=\"dataframe\">\n",
       "  <thead>\n",
       "    <tr style=\"text-align: right;\">\n",
       "      <th></th>\n",
       "      <th>City</th>\n",
       "      <th>mean</th>\n",
       "    </tr>\n",
       "  </thead>\n",
       "  <tbody>\n",
       "    <tr>\n",
       "      <th>91</th>\n",
       "      <td>Basel</td>\n",
       "      <td>38.982813</td>\n",
       "    </tr>\n",
       "    <tr>\n",
       "      <th>182</th>\n",
       "      <td>Dresden</td>\n",
       "      <td>39.713519</td>\n",
       "    </tr>\n",
       "    <tr>\n",
       "      <th>183</th>\n",
       "      <td>Munich</td>\n",
       "      <td>40.067243</td>\n",
       "    </tr>\n",
       "    <tr>\n",
       "      <th>118</th>\n",
       "      <td>Ottawa</td>\n",
       "      <td>40.809260</td>\n",
       "    </tr>\n",
       "    <tr>\n",
       "      <th>180</th>\n",
       "      <td>Stuttgart</td>\n",
       "      <td>43.034372</td>\n",
       "    </tr>\n",
       "    <tr>\n",
       "      <th>191</th>\n",
       "      <td>Dubai</td>\n",
       "      <td>45.206741</td>\n",
       "    </tr>\n",
       "    <tr>\n",
       "      <th>193</th>\n",
       "      <td>Luxembourg</td>\n",
       "      <td>45.540771</td>\n",
       "    </tr>\n",
       "    <tr>\n",
       "      <th>181</th>\n",
       "      <td>Aachen</td>\n",
       "      <td>45.858993</td>\n",
       "    </tr>\n",
       "    <tr>\n",
       "      <th>79</th>\n",
       "      <td>Leicester</td>\n",
       "      <td>46.938455</td>\n",
       "    </tr>\n",
       "    <tr>\n",
       "      <th>179</th>\n",
       "      <td>Berlin</td>\n",
       "      <td>46.975854</td>\n",
       "    </tr>\n",
       "  </tbody>\n",
       "</table>\n",
       "</div>"
      ],
      "text/plain": [
       "           City       mean\n",
       "91        Basel  38.982813\n",
       "182     Dresden  39.713519\n",
       "183      Munich  40.067243\n",
       "118      Ottawa  40.809260\n",
       "180   Stuttgart  43.034372\n",
       "191       Dubai  45.206741\n",
       "193  Luxembourg  45.540771\n",
       "181      Aachen  45.858993\n",
       "79    Leicester  46.938455\n",
       "179      Berlin  46.975854"
      ]
     },
     "execution_count": 20,
     "metadata": {},
     "output_type": "execute_result"
    }
   ],
   "source": [
    "topk_city = pd.DataFrame(euclidean_distances(topk_people_city[['Purchase Power', 'Health Care', 'Pollution', 'QoL_H', 'Crime Rating', 'Unesco']],\n",
    "                                             cities_ds[['Purchase Power', 'Health Care', 'Pollution', 'QoL_H', 'Crime Rating', 'Unesco']])).T\n",
    "topk_city['mean'] = topk_city.mean(axis=1)\n",
    "\n",
    "city_Score = pd.concat([cities_ds['City'], topk_city['mean']], axis=1)\n",
    "city_Score.sort_values('mean').head(10)"
   ]
  },
  {
   "cell_type": "code",
   "execution_count": 21,
   "metadata": {
    "colab": {
     "base_uri": "https://localhost:8080/",
     "height": 208
    },
    "id": "T_VBaTau8-eC",
    "outputId": "c568d684-df20-4906-bfed-1d817b29c884"
   },
   "outputs": [
    {
     "name": "stdout",
     "output_type": "stream",
     "text": [
      "91          Basel\n",
      "182       Dresden\n",
      "183        Munich\n",
      "118        Ottawa\n",
      "180     Stuttgart\n",
      "191         Dubai\n",
      "193    Luxembourg\n",
      "181        Aachen\n",
      "79      Leicester\n",
      "179        Berlin\n",
      "Name: City, dtype: object\n"
     ]
    }
   ],
   "source": [
    "print(city_Score.sort_values('mean')[\"City\"][:10])"
   ]
  },
  {
   "cell_type": "markdown",
   "metadata": {
    "id": "KdOrvzfeI0E1"
   },
   "source": [
    "### Visualization through dimensionality reduction"
   ]
  },
  {
   "cell_type": "code",
   "execution_count": 22,
   "metadata": {
    "colab": {
     "base_uri": "https://localhost:8080/",
     "height": 139
    },
    "id": "UyoTCcBf90YK",
    "outputId": "8f43fbe8-8f8d-419a-d00f-f88b012926bb"
   },
   "outputs": [
    {
     "name": "stdout",
     "output_type": "stream",
     "text": [
      "[t-SNE] Computing 46 nearest neighbors...\n",
      "[t-SNE] Indexed 197 samples in 0.032s...\n",
      "[t-SNE] Computed neighbors for 197 samples in 0.004s...\n",
      "[t-SNE] Computed conditional probabilities for sample 197 / 197\n",
      "[t-SNE] Mean sigma: 7.521101\n",
      "[t-SNE] KL divergence after 250 iterations with early exaggeration: 66.299873\n",
      "[t-SNE] KL divergence after 800 iterations: 0.586070\n"
     ]
    }
   ],
   "source": [
    "df = cities_ds\n",
    "\n",
    "rndperm = np.random.permutation(df.shape[0])\n",
    "df_subset = df.loc[rndperm,:].copy()\n",
    "data_subset = df_subset[['Purchase Power', 'Health Care', 'Pollution', 'Crime Rating', 'Unesco', 'QoL_H']].values\n",
    "\n",
    "tsne = TSNE(n_components=2, verbose=1, perplexity=15, n_iter=800)\n",
    "tsne_results = tsne.fit_transform(data_subset)"
   ]
  },
  {
   "cell_type": "code",
   "execution_count": 31,
   "metadata": {
    "colab": {
     "base_uri": "https://localhost:8080/",
     "height": 645
    },
    "id": "6S4q8eIE9_FZ",
    "outputId": "c7382bbf-5b8b-41e6-a3f0-c78d4d68c34a"
   },
   "outputs": [
    {
     "data": {
      "text/plain": [
       "<AxesSubplot:xlabel='tsne-2d-one', ylabel='tsne-2d-two'>"
      ]
     },
     "execution_count": 31,
     "metadata": {},
     "output_type": "execute_result"
    },
    {
     "data": {
      "image/png": "[encoded data removed]",
      "text/plain": [
       "<Figure size 432x288 with 1 Axes>"
      ]
     },
     "metadata": {
      "needs_background": "light"
     },
     "output_type": "display_data"
    }
   ],
   "source": [
    "new_dataframe = df_subset\n",
    "new_dataframe['tsne-2d-one'] = tsne_results[:,0]\n",
    "new_dataframe['tsne-2d-two'] = tsne_results[:,1]\n",
    "new_dataframe[\"Score\"] = np.zeros(len(new_dataframe))\n",
    "topk_cities = city_Score.sort_values('mean')[\"City\"][:10].values\n",
    "new_dataframe[\"City\"] = df_subset[\"City\"]\n",
    "for i in range(len(new_dataframe[\"City\"])):\n",
    "    if new_dataframe[\"City\"][i] == topk_cities[0]:\n",
    "        new_dataframe[\"Score\"][i] = \"Top\"\n",
    "    elif new_dataframe[\"City\"][i] in topk_cities:\n",
    "        new_dataframe[\"Score\"][i] = \"Recommended\"\n",
    "    else:\n",
    "        new_dataframe[\"Score\"][i] = \"Others\"\n",
    "\n",
    "'''\n",
    "plt.figure(figsize=(16,10))\n",
    "plt.plot(tsne_results[:,0], tsne_results[:, 1], marker = 'o', linestyle='none')\n",
    "'''\n",
    "# Create an array with the colors you want to use\n",
    "colors = [\"#EADB03\", \"#EA2C03\", \"#0396EA\"]\n",
    "# Set your custom color palette\n",
    "customPalette = sns.set_palette(sns.color_palette(colors))\n",
    "sns.scatterplot(\n",
    "    x = \"tsne-2d-one\", y = \"tsne-2d-two\",\n",
    "    hue = \"Score\",\n",
    "    palette = colors,\n",
    "    data = new_dataframe,\n",
    "    legend = \"full\",\n",
    "    alpha = 0.8)"
   ]
  },
  {
   "cell_type": "code",
   "execution_count": null,
   "metadata": {},
   "outputs": [],
   "source": []
  }
 ],
 "metadata": {
  "colab": {
   "include_colab_link": true,
   "name": "Untitled8.ipynb",
   "provenance": [],
   "toc_visible": true
  },
  "kernelspec": {
   "display_name": "env",
   "language": "python",
   "name": "env"
  },
  "language_info": {
   "codemirror_mode": {
    "name": "ipython",
    "version": 3
   },
   "file_extension": ".py",
   "mimetype": "text/x-python",
   "name": "python",
   "nbconvert_exporter": "python",
   "pygments_lexer": "ipython3",
   "version": "3.7.9"
  }
 },
 "nbformat": 4,
 "nbformat_minor": 4
}
